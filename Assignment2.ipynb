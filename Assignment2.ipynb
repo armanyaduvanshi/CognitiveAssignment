{
  "nbformat": 4,
  "nbformat_minor": 0,
  "metadata": {
    "colab": {
      "provenance": []
    },
    "kernelspec": {
      "name": "python3",
      "display_name": "Python 3"
    },
    "language_info": {
      "name": "python"
    }
  },
  "cells": [
    {
      "cell_type": "code",
      "execution_count": 1,
      "metadata": {
        "colab": {
          "base_uri": "https://localhost:8080/"
        },
        "id": "gDaLz3cuEKgo",
        "outputId": "45dace00-8b5e-4106-ed07-168bff9a9b61"
      },
      "outputs": [
        {
          "output_type": "stream",
          "name": "stdout",
          "text": [
            "[10, 20, 30, 40, 50, 60, 70, 80, 200, 300]\n",
            "[20, 40, 50, 60, 70, 80, 200, 300]\n",
            "[20, 40, 50, 60, 70, 80, 200, 300]\n",
            "[300, 200, 80, 70, 60, 50, 40, 20]\n"
          ]
        }
      ],
      "source": [
        "L = [10, 20, 30, 40, 50, 60, 70, 80]\n",
        "\n",
        "#add 200 and 300\n",
        "L.append(200)\n",
        "L.append(300)\n",
        "print(L)\n",
        "\n",
        "#remove 10 and 30\n",
        "L.remove(10)\n",
        "L.remove(30)\n",
        "print(L)\n",
        "\n",
        "#sort in ascending order\n",
        "L.sort()\n",
        "print(L)\n",
        "\n",
        "#sort in descending order\n",
        "L.reverse()\n",
        "print(L)"
      ]
    },
    {
      "cell_type": "code",
      "source": [
        "scores = (45, 89.5, 76, 45.4, 89, 92, 58, 45)\n",
        "\n",
        "#highest score and its index\n",
        "highest_score = max(scores)\n",
        "highest_score_index = scores.index(highest_score)\n",
        "print(f\"The highest score is {highest_score} at index {highest_score_index}.\")\n",
        "\n",
        "#lowest score and count how many times it appears\n",
        "lowest_score = min(scores)\n",
        "lowest_score_count = scores.count(lowest_score)\n",
        "print(f\"The lowest score is {lowest_score} and it appears {lowest_score_count} times.\")\n",
        "\n",
        "# Reverse the tuple and returning as a list\n",
        "reversed_list = list(reversed(scores))\n",
        "print(f\"The reversed tuple as a list: {reversed_list}\")\n",
        "\n",
        "# iv. Check if a specific score (e.g., 76) is present and print its first occurrence index\n",
        "user_input = 76\n",
        "if user_input in scores:\n",
        "    first_occurrence_index = scores.index(user_input)\n",
        "    print(f\"The score {user_input} is present at index {first_occurrence_index}.\")\n",
        "else:\n",
        "    print(f\"The score {user_input} is not present in the tuple.\")"
      ],
      "metadata": {
        "colab": {
          "base_uri": "https://localhost:8080/"
        },
        "id": "ZIPE1mU-Ec7P",
        "outputId": "e050f8f4-a6e4-451a-8ac1-2ff160f74a25"
      },
      "execution_count": 2,
      "outputs": [
        {
          "output_type": "stream",
          "name": "stdout",
          "text": [
            "The highest score is 92 at index 5.\n",
            "The lowest score is 45 and it appears 2 times.\n",
            "The reversed tuple as a list: [45, 58, 92, 89, 45.4, 76, 89.5, 45]\n",
            "The score 76 is present at index 2.\n"
          ]
        }
      ]
    },
    {
      "cell_type": "code",
      "source": [
        "import random as r\n",
        "mylist = []\n",
        "Odd = []\n",
        "Even = []\n",
        "Prime = []\n",
        "\n",
        "def isprime(num):\n",
        "    if num <= 1:\n",
        "        return False\n",
        "    for i in range(2, num):\n",
        "        if num % i == 0:\n",
        "            return False\n",
        "    return True\n",
        "\n",
        "for _ in range(100):\n",
        "    mylist.append(r.randint(100, 900))\n",
        "\n",
        "for i in mylist:\n",
        "    if i % 2 == 0:\n",
        "        Even.append(i)\n",
        "    else:\n",
        "        Odd.append(i)\n",
        "\n",
        "    if isprime(i):\n",
        "        Prime.append(i)\n",
        "\n",
        "odd_count = len(Odd)\n",
        "even_count = len(Even)\n",
        "prime_count = len(Prime)\n",
        "\n",
        "print(f\"Odd numbers ({odd_count}): {Odd}\")\n",
        "print(f\"Even numbers ({even_count}): {Even}\")\n",
        "print(f\"Prime numbers ({prime_count}): {Prime}\")"
      ],
      "metadata": {
        "colab": {
          "base_uri": "https://localhost:8080/"
        },
        "id": "v877W0SOEhaG",
        "outputId": "77f46dd8-4b7e-4e7b-f081-3836964613cf"
      },
      "execution_count": 3,
      "outputs": [
        {
          "output_type": "stream",
          "name": "stdout",
          "text": [
            "Odd numbers (46): [325, 567, 643, 253, 307, 545, 459, 333, 355, 803, 209, 379, 793, 777, 361, 311, 291, 761, 605, 277, 875, 137, 789, 361, 797, 677, 623, 637, 203, 141, 157, 431, 779, 713, 527, 721, 585, 629, 827, 557, 145, 693, 577, 441, 769, 667]\n",
            "Even numbers (54): [786, 342, 408, 360, 294, 722, 374, 702, 552, 286, 106, 180, 770, 758, 292, 524, 290, 766, 760, 304, 466, 582, 364, 164, 420, 520, 122, 764, 746, 374, 630, 396, 516, 454, 356, 364, 694, 816, 284, 314, 614, 452, 796, 764, 472, 392, 598, 334, 384, 344, 218, 684, 864, 620]\n",
            "Prime numbers (15): [643, 307, 379, 311, 761, 277, 137, 797, 677, 157, 431, 827, 557, 577, 769]\n"
          ]
        }
      ]
    },
    {
      "cell_type": "code",
      "source": [
        "4. Consider the following two sets, A and B, representing scores of two teams in multiple\n",
        "matches.  A = {34, 56, 78, 90}  and B = {78, 45, 90, 23}\n",
        "WAP to perform the following opera ons using set func ons:\n",
        "i. Find the unique scores achieved by both teams (union of sets).\n",
        "ii. Identify the scores that are common to both teams (intersec on of sets).\n",
        "iii.Find the scores that are exclusive to each team (symmetric difference).\n",
        "iv.Check if the scores of team A are a subset of team B, and if team B's scores are\n",
        "a superset of team A.\n",
        "v.Remove a specific score 𝑋 (input by the user) from set A if it exists. If not, print\n",
        "a message saying it is not present."
      ],
      "metadata": {
        "colab": {
          "base_uri": "https://localhost:8080/",
          "height": 106
        },
        "id": "W9AW-oqlEko7",
        "outputId": "23077b02-4f5d-4d5d-b50a-53138ad01b5b"
      },
      "execution_count": 6,
      "outputs": [
        {
          "output_type": "error",
          "ename": "SyntaxError",
          "evalue": "unterminated string literal (detected at line 7) (<ipython-input-6-989427222f18>, line 7)",
          "traceback": [
            "\u001b[0;36m  File \u001b[0;32m\"<ipython-input-6-989427222f18>\"\u001b[0;36m, line \u001b[0;32m7\u001b[0m\n\u001b[0;31m    iv.Check if the scores of team A are a subset of team B, and if team B's scores are\u001b[0m\n\u001b[0m                                                                         ^\u001b[0m\n\u001b[0;31mSyntaxError\u001b[0m\u001b[0;31m:\u001b[0m unterminated string literal (detected at line 7)\n"
          ]
        }
      ]
    },
    {
      "cell_type": "code",
      "source": [
        "A = {34, 56, 78, 90}\n",
        "B = {78, 45, 90, 23}\n",
        "\n",
        "print(f\"union of sets is {A | B}\")\n",
        "\n",
        "print(f\"Intersection of sets is {A & B}\")\n",
        "\n",
        "print(f\"mmetric Difference is {A ^ B}\")\n",
        "subset = A.issubset(B)\n",
        "superset = A.issuperset(A)\n",
        "\n",
        "if (subset):\n",
        "  print('A is subset of B')\n",
        "else:\n",
        "  print('A is not subset of B')\n",
        "\n",
        "if (superset):\n",
        "  print('B is superset of A')\n",
        "else:\n",
        "  print('B is not superset of A')\n",
        "\n",
        "Num = int(input('Enter a score to remove : '))\n",
        "if Num in A:\n",
        "  A.remove(Num)\n",
        "  print(f'{Num} has been removed from set A')\n",
        "else:\n",
        "  print(f'{Num} is not present in set A')"
      ],
      "metadata": {
        "colab": {
          "base_uri": "https://localhost:8080/"
        },
        "id": "wZSxcj5YEs3l",
        "outputId": "22625846-d862-4cbc-ba0f-cce1fbfcb1a2"
      },
      "execution_count": 7,
      "outputs": [
        {
          "output_type": "stream",
          "name": "stdout",
          "text": [
            "union of sets is {34, 45, 78, 23, 56, 90}\n",
            "Intersection of sets is {90, 78}\n",
            "mmetric Difference is {34, 45, 23, 56}\n",
            "A is not subset of B\n",
            "B is superset of A\n",
            "Enter a score to remove : 45\n",
            "45 is not present in set A\n"
          ]
        }
      ]
    },
    {
      "cell_type": "code",
      "source": [
        "dict = {\n",
        "    \"name\" : \"Kelly\",\n",
        "    \"age\" : 21,\n",
        "    \"salary\" : 10230,\n",
        "    \"city\" : \"New York\"\n",
        "}\n",
        "\n",
        "dict['location'] = dict.pop('city')\n",
        "\n",
        "print(\"updated dictionary is :\", dict)"
      ],
      "metadata": {
        "colab": {
          "base_uri": "https://localhost:8080/"
        },
        "id": "SEQ5T65_ExUZ",
        "outputId": "5d030d7f-dd3e-4de3-8879-1f523e53df6a"
      },
      "execution_count": 8,
      "outputs": [
        {
          "output_type": "stream",
          "name": "stdout",
          "text": [
            "updated dictionary is : {'name': 'Kelly', 'age': 21, 'salary': 10230, 'location': 'New York'}\n"
          ]
        }
      ]
    },
    {
      "cell_type": "code",
      "source": [],
      "metadata": {
        "id": "UHpb3H88E03t"
      },
      "execution_count": null,
      "outputs": []
    }
  ]
}