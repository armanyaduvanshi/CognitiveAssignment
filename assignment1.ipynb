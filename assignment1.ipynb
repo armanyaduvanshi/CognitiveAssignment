{
  "nbformat": 4,
  "nbformat_minor": 0,
  "metadata": {
    "colab": {
      "provenance": []
    },
    "kernelspec": {
      "name": "python3",
      "display_name": "Python 3"
    },
    "language_info": {
      "name": "python"
    }
  },
  "cells": [
    {
      "cell_type": "code",
      "execution_count": 1,
      "metadata": {
        "colab": {
          "base_uri": "https://localhost:8080/"
        },
        "id": "Yn7sF-jI-d67",
        "outputId": "5c2b2e46-dea6-4545-8239-2be1b33b29f6"
      },
      "outputs": [
        {
          "output_type": "stream",
          "name": "stdout",
          "text": [
            "Anything you find cool\n"
          ]
        }
      ],
      "source": [
        "\n",
        "#1 Write a Python program to print \"Anything You find cool.\"\n",
        "print(\"Anything you find cool\")"
      ]
    },
    {
      "cell_type": "code",
      "source": [
        "#2.1 Write a program to add two numbers and print the result.\n",
        "a = int(input(\"enter 1st no:\"))\n",
        "b = int(input(\"enter 2nd no:\"))\n",
        "sum = a + b\n",
        "print(sum)"
      ],
      "metadata": {
        "colab": {
          "base_uri": "https://localhost:8080/"
        },
        "id": "MDy1xC1I-n6U",
        "outputId": "a3c269ea-1ed4-4297-d02e-bcdd9d39265f"
      },
      "execution_count": 2,
      "outputs": [
        {
          "output_type": "stream",
          "name": "stdout",
          "text": [
            "enter 1st no:14\n",
            "enter 2nd no:15\n",
            "29\n"
          ]
        }
      ]
    },
    {
      "cell_type": "code",
      "source": [
        "#2.2 Write a program to concatenate two strings and print the result.\n",
        "a = input(\"enter your 1st string: \")\n",
        "b = input(\"enter your 2nd string: \")\n",
        "c = a +\" \"+ b\n",
        "print(c)\n"
      ],
      "metadata": {
        "colab": {
          "base_uri": "https://localhost:8080/"
        },
        "id": "eepadOjH-3H2",
        "outputId": "d474505b-aaf0-4303-9fc7-a8c3d0ca292d"
      },
      "execution_count": 3,
      "outputs": [
        {
          "output_type": "stream",
          "name": "stdout",
          "text": [
            "enter your 1st string: Arman\n",
            "enter your 2nd string: Yaduvanshi\n",
            "Arman Yaduvanshi\n"
          ]
        }
      ]
    },
    {
      "cell_type": "code",
      "source": [
        "# 2.3 Write a program to concatenate a string and a number and print the result.\n",
        "str1 = \"hello, am Arman\"\n",
        "number = 7\n",
        "print(str1 + str(number))"
      ],
      "metadata": {
        "colab": {
          "base_uri": "https://localhost:8080/"
        },
        "id": "HqpTYdNr-_6U",
        "outputId": "4b41e67c-400f-48a1-ce50-fe8160afd7d1"
      },
      "execution_count": 5,
      "outputs": [
        {
          "output_type": "stream",
          "name": "stdout",
          "text": [
            "hello, am Arman7\n"
          ]
        }
      ]
    },
    {
      "cell_type": "code",
      "source": [
        "# 3.1 Write a Python program to check if a number is positive, negative, or zero using an if-else statement.\n",
        "a = int(input(\"enter your number: \"))\n",
        "if (a>0):\n",
        "    print(\"a is positive\")\n",
        "elif (a<0):\n",
        "    print(\"a is negative\")\n",
        "else:\n",
        "    print(\"a is zero\")"
      ],
      "metadata": {
        "colab": {
          "base_uri": "https://localhost:8080/"
        },
        "id": "R493jYyA_qPl",
        "outputId": "35328402-1e25-42c2-9751-ba63e9ade8fc"
      },
      "execution_count": 6,
      "outputs": [
        {
          "output_type": "stream",
          "name": "stdout",
          "text": [
            "enter your number: 10\n",
            "a is positive\n"
          ]
        }
      ]
    },
    {
      "cell_type": "code",
      "source": [
        "#  3.2 Write a program to check if a given number is odd or even.\n",
        "a = int(input(\"enter your number: \"))\n",
        "if(a%2==0):\n",
        "    print(\"no. is even\")\n",
        "else:\n",
        "    print(\"no. is odd\")"
      ],
      "metadata": {
        "colab": {
          "base_uri": "https://localhost:8080/"
        },
        "id": "eXWBR3jc_wfv",
        "outputId": "5dd3e8b5-f173-4259-c304-37dc37efcfad"
      },
      "execution_count": 7,
      "outputs": [
        {
          "output_type": "stream",
          "name": "stdout",
          "text": [
            "enter your number: 12\n",
            "no. is even\n"
          ]
        }
      ]
    },
    {
      "cell_type": "code",
      "source": [
        "#4.1 Write a program to print numbers from 1 to 10 using a for loop\n",
        "for i in range(1,11):\n",
        "  print(i)"
      ],
      "metadata": {
        "colab": {
          "base_uri": "https://localhost:8080/"
        },
        "id": "pm7wt2p7__rw",
        "outputId": "d8e2f42f-e396-4cc6-c04c-d402386a04fa"
      },
      "execution_count": 8,
      "outputs": [
        {
          "output_type": "stream",
          "name": "stdout",
          "text": [
            "1\n",
            "2\n",
            "3\n",
            "4\n",
            "5\n",
            "6\n",
            "7\n",
            "8\n",
            "9\n",
            "10\n"
          ]
        }
      ]
    },
    {
      "cell_type": "code",
      "source": [
        "#4.2 Write a program to print numbers from 1 to 10 using a while loop\n",
        "i = 1\n",
        "while(i<=10):\n",
        "    print(i)\n",
        "    i=i+1\n",
        ""
      ],
      "metadata": {
        "colab": {
          "base_uri": "https://localhost:8080/"
        },
        "id": "mz1ihhnCACUo",
        "outputId": "3c5763e7-c71a-42ce-abf5-6f926c1d0e5f"
      },
      "execution_count": 9,
      "outputs": [
        {
          "output_type": "stream",
          "name": "stdout",
          "text": [
            "1\n",
            "2\n",
            "3\n",
            "4\n",
            "5\n",
            "6\n",
            "7\n",
            "8\n",
            "9\n",
            "10\n"
          ]
        }
      ]
    },
    {
      "cell_type": "code",
      "source": [
        "#4.3 Write a program to calculate the sum of numbers from 1 to 100 using a loop\n",
        "sum = 0\n",
        "for i in range(1,101):\n",
        "    sum= sum+i\n",
        "print(sum)"
      ],
      "metadata": {
        "colab": {
          "base_uri": "https://localhost:8080/"
        },
        "id": "kLhC_ZztALSA",
        "outputId": "3c9a500b-e902-4377-e469-c8a6a2d54be9"
      },
      "execution_count": 10,
      "outputs": [
        {
          "output_type": "stream",
          "name": "stdout",
          "text": [
            "5050\n"
          ]
        }
      ]
    },
    {
      "cell_type": "code",
      "source": [
        "#5.1 Create a list of 5 numbers. Write a program to find the largest and smallest numbers in the list\n",
        "list = [10,13,64,21,19]\n",
        "print(min(list))\n",
        "print(max(list))"
      ],
      "metadata": {
        "colab": {
          "base_uri": "https://localhost:8080/"
        },
        "id": "d11bPoNNANZA",
        "outputId": "72495424-758b-492f-d9d4-6f30c28eb587"
      },
      "execution_count": 11,
      "outputs": [
        {
          "output_type": "stream",
          "name": "stdout",
          "text": [
            "10\n",
            "64\n"
          ]
        }
      ]
    },
    {
      "cell_type": "code",
      "source": [
        "#5.2 Create a dictionary with at least 3 key-value pairs. Write a program to retrieve the value of a given key.\n",
        "dict1 = {\n",
        "    \"arman\":\"1st\",\n",
        "    \"gary\":\"2nd\",\n",
        "    \"shivam\":\"3rd\"\n",
        "}\n",
        "print(dict1[\"arman\"])"
      ],
      "metadata": {
        "colab": {
          "base_uri": "https://localhost:8080/"
        },
        "id": "Vf2KAxINAQ4e",
        "outputId": "25379f94-cf88-4976-dce9-3cbed453ed9f"
      },
      "execution_count": 12,
      "outputs": [
        {
          "output_type": "stream",
          "name": "stdout",
          "text": [
            "1st\n"
          ]
        }
      ]
    },
    {
      "cell_type": "code",
      "source": [
        "# 5.3 Write a program to sort a list of numbers in ascending and descending order\n",
        "mylist = [13,14,54,32,86,76]\n",
        "mylist.sort()\n",
        "print(mylist)\n",
        "mylist.reverse()\n",
        "print(mylist)"
      ],
      "metadata": {
        "colab": {
          "base_uri": "https://localhost:8080/"
        },
        "id": "SjfoAs8qAd86",
        "outputId": "fb336316-b20d-4594-8744-61a8c2020918"
      },
      "execution_count": 13,
      "outputs": [
        {
          "output_type": "stream",
          "name": "stdout",
          "text": [
            "[13, 14, 32, 54, 76, 86]\n",
            "[86, 76, 54, 32, 14, 13]\n"
          ]
        }
      ]
    },
    {
      "cell_type": "code",
      "source": [
        "#5.4 Write a program to merge two dictionaries into one.\n",
        "dict1 = {\"arman\":\"1st\" , \"rohit\":\"2nd\"}\n",
        "dict2 = {\"shivam\":\"3rd\" , \"kanav\":\"4th\"}\n",
        "dict1.update(dict2)\n",
        "print(\"merged dictionary is : \" , dict1)\n",
        "# or by using merge keyword"
      ],
      "metadata": {
        "colab": {
          "base_uri": "https://localhost:8080/"
        },
        "id": "vHHdsVbxApg0",
        "outputId": "42a6212d-7b8c-4853-fe1f-05706c42764d"
      },
      "execution_count": 14,
      "outputs": [
        {
          "output_type": "stream",
          "name": "stdout",
          "text": [
            "merged dictionary is :  {'arman': '1st', 'rohit': '2nd', 'shivam': '3rd', 'kanav': '4th'}\n"
          ]
        }
      ]
    },
    {
      "cell_type": "code",
      "source": [
        "# 6.1 Write a program to count the number of vowels in a given string\n",
        "string = input(\"enter your string: \")\n",
        "length = len(string)\n",
        "count = 0\n",
        "for i in range(0,length):\n",
        "    if(string[i]==\"a\" or string[i]==\"e\" or string[i]==\"i\" or string[i]==\"o\" or string[i]==\"u\" ):\n",
        "        count = count + 1\n",
        "print(count)"
      ],
      "metadata": {
        "colab": {
          "base_uri": "https://localhost:8080/"
        },
        "id": "unmH1ElKA4U7",
        "outputId": "07f422d7-0b3c-4345-8a81-5c4bc0c8f6da"
      },
      "execution_count": 15,
      "outputs": [
        {
          "output_type": "stream",
          "name": "stdout",
          "text": [
            "enter your string: i\n",
            "1\n"
          ]
        }
      ]
    },
    {
      "cell_type": "code",
      "source": [
        "#6.2 Write a program to reverse a string and print it\n",
        "def reverse_string(s):\n",
        "    return s[::-1]\n",
        "string = input(\"input your string: \")\n",
        "reversed_string = reverse_string(string)\n",
        "print(\"Reversed string is :\", reversed_string)"
      ],
      "metadata": {
        "colab": {
          "base_uri": "https://localhost:8080/"
        },
        "id": "qtjKExlrA9Co",
        "outputId": "e0fc9635-11df-48f2-8726-b352761f52ea"
      },
      "execution_count": 16,
      "outputs": [
        {
          "output_type": "stream",
          "name": "stdout",
          "text": [
            "input your string: shinchan\n",
            "Reversed string is : nahcnihs\n"
          ]
        }
      ]
    },
    {
      "cell_type": "code",
      "source": [
        "# 6.3  Write a program to check if a string is a palindrome.\n",
        "def reverse_string(s):\n",
        "    return s[::-1]\n",
        "string = input(\"input your string: \")\n",
        "reversed_string = reverse_string(string)\n",
        "\n",
        "if(string==reversed_string):\n",
        "    print(\"it is a palindrome\")\n",
        "else:\n",
        "    print(\"not a palindrome\")"
      ],
      "metadata": {
        "colab": {
          "base_uri": "https://localhost:8080/"
        },
        "id": "mcYnzAS2BDYw",
        "outputId": "be1be907-48e3-4773-8134-85d7ecc6c6fd"
      },
      "execution_count": 17,
      "outputs": [
        {
          "output_type": "stream",
          "name": "stdout",
          "text": [
            "input your string: shinchan\n",
            "not a palindrome\n"
          ]
        }
      ]
    },
    {
      "cell_type": "code",
      "source": [
        "#7.1 Write a program to create a text file, write some text into it, and then read and print the content.\n",
        "with open(\"new1.txt\", \"w\") as f:\n",
        "    f.write(\"hello, this is arman\")\n",
        "with open(\"new1.txt\", \"r\") as f:\n",
        "    data = f.read()\n",
        "    print(data)"
      ],
      "metadata": {
        "colab": {
          "base_uri": "https://localhost:8080/"
        },
        "id": "BADZBqX6BKlS",
        "outputId": "9e4b16da-43c5-48c6-b429-e272e0c9dac0"
      },
      "execution_count": 18,
      "outputs": [
        {
          "output_type": "stream",
          "name": "stdout",
          "text": [
            "hello, this is arman\n"
          ]
        }
      ]
    },
    {
      "cell_type": "code",
      "source": [
        "#7.2 Write a program to append text to an existing file and print the updated content\n",
        "with open(\"sample.txt\", \"a+\") as f:\n",
        "    f.write(\"python world\\n\")\n",
        "    f.seek(0)\n",
        "    data = f.read()\n",
        "\n",
        "print(data)"
      ],
      "metadata": {
        "colab": {
          "base_uri": "https://localhost:8080/"
        },
        "id": "hoEXs05qBO2e",
        "outputId": "d1558c84-7072-4bb9-d38f-ea706ef9668e"
      },
      "execution_count": 19,
      "outputs": [
        {
          "output_type": "stream",
          "name": "stdout",
          "text": [
            "python world\n",
            "\n"
          ]
        }
      ]
    },
    {
      "cell_type": "code",
      "source": [
        "# 7.3 Write a program to count the number of lines in a text file.\n",
        "with open(\"sample.txt\", \"r\") as f:\n",
        "    lines = f.readlines()\n",
        "    print(len(lines))"
      ],
      "metadata": {
        "colab": {
          "base_uri": "https://localhost:8080/"
        },
        "id": "owZlxSwJBXbM",
        "outputId": "2425ad2c-4e21-41fb-f0a1-948c03e2d5fa"
      },
      "execution_count": 20,
      "outputs": [
        {
          "output_type": "stream",
          "name": "stdout",
          "text": [
            "1\n"
          ]
        }
      ]
    },
    {
      "cell_type": "code",
      "source": [
        "# 8.1 Write a program to handle division by zero using a try-except block.\n",
        "try:\n",
        "   a = int(input(\"enter numerator:\"))\n",
        "   b = int(input(\"enter denominator: \"))\n",
        "   answer = a/b\n",
        "   print(answer)\n",
        "except ZeroDivisionError as e:\n",
        "    print(\"infinite\")"
      ],
      "metadata": {
        "colab": {
          "base_uri": "https://localhost:8080/"
        },
        "id": "dWXycBWjBgg8",
        "outputId": "9a5471fc-6821-4989-82b7-4382ab1e9dc2"
      },
      "execution_count": 21,
      "outputs": [
        {
          "output_type": "stream",
          "name": "stdout",
          "text": [
            "enter numerator:10\n",
            "enter denominator: 2\n",
            "5.0\n"
          ]
        }
      ]
    },
    {
      "cell_type": "code",
      "source": [
        "#8.2  Write a program to handle invalid input (e.g., when the user enters a string instead of a number)\n",
        "try:\n",
        "    a= int(input(\"enter your number: \"))\n",
        "    print(\"valid\", a)\n",
        "except :\n",
        "    print(\"please enter a valid number\")"
      ],
      "metadata": {
        "colab": {
          "base_uri": "https://localhost:8080/"
        },
        "id": "_SUyoZQ1BldN",
        "outputId": "a4732b78-9187-4a29-b166-c18625b5cd23"
      },
      "execution_count": 22,
      "outputs": [
        {
          "output_type": "stream",
          "name": "stdout",
          "text": [
            "enter your number: 10\n",
            "valid 10\n"
          ]
        }
      ]
    },
    {
      "cell_type": "code",
      "source": [
        "#8.3 Write a program to demonstrate the use of finally in exception handling\n",
        "try:\n",
        "    a = int(input(\"enter numerator:\"))\n",
        "    b = int(input(\"Enter denominator:\"))\n",
        "    div = a/b\n",
        "except ZeroDivisionError:\n",
        "    print(\"your denominator is zero which is not valid\")\n",
        "else:\n",
        "    print(\"division is: \", div)\n",
        "finally:\n",
        "    print(\"division is successfull\")"
      ],
      "metadata": {
        "colab": {
          "base_uri": "https://localhost:8080/"
        },
        "id": "wPCNFV8KBrDK",
        "outputId": "7b5ce1af-c03b-4bc4-88c8-882fa93f885b"
      },
      "execution_count": 23,
      "outputs": [
        {
          "output_type": "stream",
          "name": "stdout",
          "text": [
            "enter numerator:10\n",
            "Enter denominator:5\n",
            "division is:  2.0\n",
            "division is successfull\n"
          ]
        }
      ]
    },
    {
      "cell_type": "code",
      "source": [
        "#9.1 Write a program to generate 5 random numbers between 1 and 100 and print them\n",
        "import random\n",
        "for i in range(1,6):\n",
        "    print(random.randint(1,100))"
      ],
      "metadata": {
        "colab": {
          "base_uri": "https://localhost:8080/"
        },
        "id": "kwFUvGJ5B7Zb",
        "outputId": "43760eb1-205f-4bd2-8893-e0ecf4f68375"
      },
      "execution_count": 24,
      "outputs": [
        {
          "output_type": "stream",
          "name": "stdout",
          "text": [
            "66\n",
            "39\n",
            "69\n",
            "35\n",
            "43\n"
          ]
        }
      ]
    },
    {
      "cell_type": "code",
      "source": [
        "#9.2 Write a program to generate a random number and check if it is prime\n",
        "import random\n",
        "\n",
        "def is_prime(num):\n",
        "    if (num<=1):\n",
        "        return False\n",
        "\n",
        "    for i in range(2,num):\n",
        "        if (num % i == 0):\n",
        "            return False;\n",
        "    else :\n",
        "        return True\n",
        "a = random.randint(1,100)\n",
        "print(\"random no generated is: \", a)\n",
        "\n",
        "if is_prime(a):\n",
        "    print(f\"{a} is a prime number.\")\n",
        "else:\n",
        "    print(f\"{a} is not a prime number.\")"
      ],
      "metadata": {
        "colab": {
          "base_uri": "https://localhost:8080/"
        },
        "id": "aNQqVeZkCAH8",
        "outputId": "9b0ea087-69d8-499d-80ae-02217cb22e11"
      },
      "execution_count": 25,
      "outputs": [
        {
          "output_type": "stream",
          "name": "stdout",
          "text": [
            "random no generated is:  13\n",
            "13 is a prime number.\n"
          ]
        }
      ]
    },
    {
      "cell_type": "code",
      "source": [
        "#9.3  Write a program to simulate rolling a six-sided die\n",
        "import random\n",
        "roll=random.randint(1,6)\n",
        "print(roll)"
      ],
      "metadata": {
        "colab": {
          "base_uri": "https://localhost:8080/"
        },
        "id": "e8USqP4lCDMI",
        "outputId": "f9ad4391-6931-457a-8f76-5dae458e77fe"
      },
      "execution_count": 26,
      "outputs": [
        {
          "output_type": "stream",
          "name": "stdout",
          "text": [
            "5\n"
          ]
        }
      ]
    },
    {
      "cell_type": "code",
      "source": [
        "#9.4 Write a program to shuffle a list of numbers.\n",
        "import random\n",
        "list=[12,13,14,15,16,17]\n",
        "print(list)\n",
        "random.shuffle(list)\n",
        "print(list)"
      ],
      "metadata": {
        "colab": {
          "base_uri": "https://localhost:8080/"
        },
        "id": "beV2qIGVCHYH",
        "outputId": "67406d99-46bd-4d1d-dbc1-ebcd105686bb"
      },
      "execution_count": 27,
      "outputs": [
        {
          "output_type": "stream",
          "name": "stdout",
          "text": [
            "[12, 13, 14, 15, 16, 17]\n",
            "[15, 14, 16, 13, 17, 12]\n"
          ]
        }
      ]
    },
    {
      "cell_type": "code",
      "source": [
        "#9.5  Write a program to randomly select an item from a list\n",
        "import random as r\n",
        "list=['apple','mango','banana','kiwi','strawberry']\n",
        "item = r.choice(list)\n",
        "print(item)"
      ],
      "metadata": {
        "colab": {
          "base_uri": "https://localhost:8080/"
        },
        "id": "8KBDoAnTCKXH",
        "outputId": "b19efa1a-81f0-4b5a-9966-60c3c8870c2d"
      },
      "execution_count": 28,
      "outputs": [
        {
          "output_type": "stream",
          "name": "stdout",
          "text": [
            "apple\n"
          ]
        }
      ]
    },
    {
      "cell_type": "code",
      "source": [
        "#9.6 Write a program to generate a random password of given length.\n",
        "import random as r\n",
        "len = int(input(\"enter length : \"))\n",
        "characters=\"abcdefghijklmnopqrstuvwxyz\"\n",
        "password=\"\".join(r.choice(characters) for i in range(len))\n",
        "print(password)"
      ],
      "metadata": {
        "colab": {
          "base_uri": "https://localhost:8080/"
        },
        "id": "nwUNuBOJCNGQ",
        "outputId": "00d7add4-632e-4962-ce9a-d966324f027f"
      },
      "execution_count": 30,
      "outputs": [
        {
          "output_type": "stream",
          "name": "stdout",
          "text": [
            "enter length : 5\n",
            "fvoug\n"
          ]
        }
      ]
    },
    {
      "cell_type": "code",
      "source": [
        "#9.7  Write a program to pick a random card from a standard deck of 52 cards\n",
        "import random as r\n",
        "symbols = [\"Hearts\", \"Diamonds\", \"Clubs\", \"Spades\"]\n",
        "ranks = [\"2\", \"3\", \"4\", \"5\", \"6\", \"7\", \"8\", \"9\", \"10\", \"Jack\", \"Queen\", \"King\", \"Ace\"]\n",
        "\n",
        "first =r.choice(symbols)\n",
        "second =r.choice(ranks)\n",
        "card=first + \" \" + second\n",
        "print(card)"
      ],
      "metadata": {
        "colab": {
          "base_uri": "https://localhost:8080/"
        },
        "id": "88waKrp-CVMD",
        "outputId": "8b3d8f38-0c1e-4eef-abb3-9cba661aeac4"
      },
      "execution_count": 31,
      "outputs": [
        {
          "output_type": "stream",
          "name": "stdout",
          "text": [
            "Clubs 4\n"
          ]
        }
      ]
    },
    {
      "cell_type": "code",
      "source": [
        "#10.1 Write a program to accept two numbers as command-line arguments, add them, and print the result.\n",
        "\n",
        "import sys\n",
        "\n",
        "if len(sys.argv) != 3:\n",
        "  print(\"Usage: python script_name.py  \")\n",
        "  sys.exit(1)\n",
        "number1 = float(sys.argv[1])\n",
        "number2 = float(sys.argv[2])\n",
        "result = number1 + number2\n",
        "print(f'Sum of {number1} and {number2} is {result}')"
      ],
      "metadata": {
        "collapsed": true,
        "colab": {
          "base_uri": "https://localhost:8080/",
          "height": 211
        },
        "id": "0sn8XwFbCo0_",
        "outputId": "bf93abd9-fe83-4ab3-a62c-9bf5910e3581"
      },
      "execution_count": 36,
      "outputs": [
        {
          "output_type": "error",
          "ename": "TypeError",
          "evalue": "'int' object is not callable",
          "traceback": [
            "\u001b[0;31m---------------------------------------------------------------------------\u001b[0m",
            "\u001b[0;31mTypeError\u001b[0m                                 Traceback (most recent call last)",
            "\u001b[0;32m<ipython-input-36-6f20fa08dfaa>\u001b[0m in \u001b[0;36m<cell line: 0>\u001b[0;34m()\u001b[0m\n\u001b[1;32m      3\u001b[0m \u001b[0;32mimport\u001b[0m \u001b[0msys\u001b[0m\u001b[0;34m\u001b[0m\u001b[0;34m\u001b[0m\u001b[0m\n\u001b[1;32m      4\u001b[0m \u001b[0;34m\u001b[0m\u001b[0m\n\u001b[0;32m----> 5\u001b[0;31m \u001b[0;32mif\u001b[0m \u001b[0mlen\u001b[0m\u001b[0;34m(\u001b[0m\u001b[0msys\u001b[0m\u001b[0;34m.\u001b[0m\u001b[0margv\u001b[0m\u001b[0;34m)\u001b[0m \u001b[0;34m!=\u001b[0m \u001b[0;36m3\u001b[0m\u001b[0;34m:\u001b[0m\u001b[0;34m\u001b[0m\u001b[0;34m\u001b[0m\u001b[0m\n\u001b[0m\u001b[1;32m      6\u001b[0m   \u001b[0mprint\u001b[0m\u001b[0;34m(\u001b[0m\u001b[0;34m\"Usage: python script_name.py  \"\u001b[0m\u001b[0;34m)\u001b[0m\u001b[0;34m\u001b[0m\u001b[0;34m\u001b[0m\u001b[0m\n\u001b[1;32m      7\u001b[0m   \u001b[0msys\u001b[0m\u001b[0;34m.\u001b[0m\u001b[0mexit\u001b[0m\u001b[0;34m(\u001b[0m\u001b[0;36m1\u001b[0m\u001b[0;34m)\u001b[0m\u001b[0;34m\u001b[0m\u001b[0;34m\u001b[0m\u001b[0m\n",
            "\u001b[0;31mTypeError\u001b[0m: 'int' object is not callable"
          ]
        }
      ]
    },
    {
      "cell_type": "code",
      "source": [
        "# 10.2 Write a program to accept a string as a command-line argument and print its length.\n",
        "import sys\n",
        "string = sys.argv[1]\n",
        "print(\"Length of string:\", len(string))"
      ],
      "metadata": {
        "colab": {
          "base_uri": "https://localhost:8080/",
          "height": 176
        },
        "collapsed": true,
        "id": "-JTHZvN-Csc0",
        "outputId": "6c7788af-a56c-4ef9-92d9-1016c72638c3"
      },
      "execution_count": 35,
      "outputs": [
        {
          "output_type": "error",
          "ename": "TypeError",
          "evalue": "'int' object is not callable",
          "traceback": [
            "\u001b[0;31m---------------------------------------------------------------------------\u001b[0m",
            "\u001b[0;31mTypeError\u001b[0m                                 Traceback (most recent call last)",
            "\u001b[0;32m<ipython-input-35-8a54e6713f59>\u001b[0m in \u001b[0;36m<cell line: 0>\u001b[0;34m()\u001b[0m\n\u001b[1;32m      2\u001b[0m \u001b[0;32mimport\u001b[0m \u001b[0msys\u001b[0m\u001b[0;34m\u001b[0m\u001b[0;34m\u001b[0m\u001b[0m\n\u001b[1;32m      3\u001b[0m \u001b[0mstring\u001b[0m \u001b[0;34m=\u001b[0m \u001b[0msys\u001b[0m\u001b[0;34m.\u001b[0m\u001b[0margv\u001b[0m\u001b[0;34m[\u001b[0m\u001b[0;36m1\u001b[0m\u001b[0;34m]\u001b[0m\u001b[0;34m\u001b[0m\u001b[0;34m\u001b[0m\u001b[0m\n\u001b[0;32m----> 4\u001b[0;31m \u001b[0mprint\u001b[0m\u001b[0;34m(\u001b[0m\u001b[0;34m\"Length of string:\"\u001b[0m\u001b[0;34m,\u001b[0m \u001b[0mlen\u001b[0m\u001b[0;34m(\u001b[0m\u001b[0mstring\u001b[0m\u001b[0;34m)\u001b[0m\u001b[0;34m)\u001b[0m\u001b[0;34m\u001b[0m\u001b[0;34m\u001b[0m\u001b[0m\n\u001b[0m",
            "\u001b[0;31mTypeError\u001b[0m: 'int' object is not callable"
          ]
        }
      ]
    },
    {
      "cell_type": "code",
      "source": [
        "# 11.1 Write a program to use the math library to calculate the square root of a given number.\n",
        "import math as m\n",
        "a=int(input(\"entr a val : \"))\n",
        "m.sqrt(a)"
      ],
      "metadata": {
        "colab": {
          "base_uri": "https://localhost:8080/"
        },
        "id": "XZQhZyLoC5tA",
        "outputId": "a38dfe93-8b48-4cb3-9dd6-6d5694630611"
      },
      "execution_count": 37,
      "outputs": [
        {
          "name": "stdout",
          "output_type": "stream",
          "text": [
            "entr a val : 5\n"
          ]
        },
        {
          "output_type": "execute_result",
          "data": {
            "text/plain": [
              "2.23606797749979"
            ]
          },
          "metadata": {},
          "execution_count": 37
        }
      ]
    },
    {
      "cell_type": "code",
      "source": [
        "#  11.2 Write a program to use the datetime library to print the current date and time.\n",
        "import datetime as dt\n",
        "print(dt.date.today())\n",
        "print(dt.datetime.now().time())"
      ],
      "metadata": {
        "colab": {
          "base_uri": "https://localhost:8080/"
        },
        "id": "oLVOA_rhDA5C",
        "outputId": "1ee8dad8-8e2f-4c4a-d5be-9dfa48830d7a"
      },
      "execution_count": 38,
      "outputs": [
        {
          "output_type": "stream",
          "name": "stdout",
          "text": [
            "2025-03-28\n",
            "13:59:01.405167\n"
          ]
        }
      ]
    },
    {
      "cell_type": "code",
      "source": [
        "# 11.3 Write a program to use the os library to list all files in the current directory\n",
        "import os as o\n",
        "currentdr=o.getcwd()\n",
        "allfiles=o.listdir(currentdr)\n",
        "print(allfiles)\n"
      ],
      "metadata": {
        "colab": {
          "base_uri": "https://localhost:8080/"
        },
        "id": "I5-OAah2DEsx",
        "outputId": "bc5f3a96-e835-4aa7-ea45-c273a71853f3"
      },
      "execution_count": 39,
      "outputs": [
        {
          "output_type": "stream",
          "name": "stdout",
          "text": [
            "['.config', 'new1.txt', 'sample.txt', 'sample_data']\n"
          ]
        }
      ]
    }
  ]
}