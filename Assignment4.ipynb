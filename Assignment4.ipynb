{
  "nbformat": 4,
  "nbformat_minor": 0,
  "metadata": {
    "colab": {
      "provenance": []
    },
    "kernelspec": {
      "name": "python3",
      "display_name": "Python 3"
    },
    "language_info": {
      "name": "python"
    }
  },
  "cells": [
    {
      "cell_type": "code",
      "execution_count": 1,
      "metadata": {
        "colab": {
          "base_uri": "https://localhost:8080/"
        },
        "id": "K6--j_tUGcoB",
        "outputId": "5f847956-858e-4fa5-aa70-ae14ce1eb544"
      },
      "outputs": [
        {
          "output_type": "stream",
          "name": "stdout",
          "text": [
            "Array after adding 2: [3 4 5 6 7]\n",
            "Array after multiplying by 3: [ 3  6  9 12 15]\n",
            "Array after dividing by 2: [0.5 1.  1.5 2.  2.5]\n"
          ]
        }
      ],
      "source": [
        "import numpy as np\n",
        "\n",
        "array = np.array([1, 2, 3, 4, 5])\n",
        "\n",
        "added_array = array + 2\n",
        "print(\"Array after adding 2:\", added_array)\n",
        "\n",
        "multiplied_array = array * 3\n",
        "print(\"Array after multiplying by 3:\", multiplied_array)\n",
        "\n",
        "divided_array = array / 2\n",
        "print(\"Array after dividing by 2:\", divided_array)"
      ]
    },
    {
      "cell_type": "code",
      "source": [
        "import numpy as np\n",
        "\n",
        "arr = np.array([1, 2, 3, 6, 4, 5])\n",
        "\n",
        "# Reversing\n",
        "reversed_arr = arr[::-1]\n",
        "print(\"Reversed array:\", reversed_arr)\n",
        "\n",
        "x = np.array([1,2,3,4,5,1,2,1,1,1])\n",
        "\n",
        "#Most frequent value FOR X\n",
        "unique, counts = np.unique(x, return_counts=True)\n",
        "most_frequent_value = unique[np.argmax(counts)]\n",
        "\n",
        "# Indices of most frequent value\n",
        "indices = np.where(x == most_frequent_value)[0]\n",
        "print(\"Most frequent value in x:\", most_frequent_value)\n",
        "print(\"Indices:\", indices)\n",
        "\n",
        "y = np.array([1, 1, 1, 2, 3, 4, 2, 4, 3, 3])\n",
        "\n",
        "# Most frequent value FOR Y\n",
        "unique, counts = np.unique(y, return_counts=True)\n",
        "most_frequent_value = unique[np.argmax(counts)]\n",
        "\n",
        "# Indices of most frequent value\n",
        "indices = np.where(y == most_frequent_value)[0]\n",
        "\n",
        "print(\"Most frequent value in y:\", most_frequent_value)\n",
        "print(\"Indices:\", indices)"
      ],
      "metadata": {
        "colab": {
          "base_uri": "https://localhost:8080/"
        },
        "id": "RrnRrC3yGs3c",
        "outputId": "f3a1ed6a-c641-41f3-faae-87bee836bcfb"
      },
      "execution_count": 2,
      "outputs": [
        {
          "output_type": "stream",
          "name": "stdout",
          "text": [
            "Reversed array: [5 4 6 3 2 1]\n",
            "Most frequent value in x: 1\n",
            "Indices: [0 5 7 8 9]\n",
            "Most frequent value in y: 1\n",
            "Indices: [0 1 2]\n"
          ]
        }
      ]
    },
    {
      "cell_type": "code",
      "source": [
        "import numpy as np\n",
        "\n",
        "arr = np.array([[10, 20, 30],\n",
        "                 [40, 50, 60],\n",
        "                 [70, 80, 90]])\n",
        "\n",
        "element_a = arr[0, 1]\n",
        "print(\"Element at 1st row and 2nd column:\", element_a)\n",
        "\n",
        "element_b = arr[2, 0]\n",
        "print(\"Element at 3rd row and 1st column:\", element_b)"
      ],
      "metadata": {
        "colab": {
          "base_uri": "https://localhost:8080/"
        },
        "id": "7tfSKwuTGypU",
        "outputId": "c63d9c6b-4829-441c-da04-8806f7c83c89"
      },
      "execution_count": 3,
      "outputs": [
        {
          "output_type": "stream",
          "name": "stdout",
          "text": [
            "Element at 1st row and 2nd column: 20\n",
            "Element at 3rd row and 1st column: 70\n"
          ]
        }
      ]
    },
    {
      "cell_type": "code",
      "source": [
        "import numpy as np\n",
        "\n",
        "array = np.linspace(10, 100, 25)\n",
        "\n",
        "print(\"Dimensions of the array:\", array.ndim)\n",
        "print(\"Shape of the array:\", array.shape)\n",
        "print(\"Total elements in the array:\", array.size)\n",
        "print(\"Data type of each element:\", array.dtype)\n",
        "print(\"Total number of bytes consumed by the array:\", array.nbytes)\n",
        "\n",
        "transposed_array_reshape = array.reshape(25, 1)\n",
        "print(\"Transposed array using reshape():\\n\", transposed_array_reshape)\n",
        "\n",
        "transposed_array_T = array.T\n",
        "print(\"Transposed array using T attribute:\\n\", transposed_array_T)"
      ],
      "metadata": {
        "colab": {
          "base_uri": "https://localhost:8080/"
        },
        "id": "0OFDpez_G211",
        "outputId": "ea735ca9-9a36-4f3f-d732-c81028c7c317"
      },
      "execution_count": 4,
      "outputs": [
        {
          "output_type": "stream",
          "name": "stdout",
          "text": [
            "Dimensions of the array: 1\n",
            "Shape of the array: (25,)\n",
            "Total elements in the array: 25\n",
            "Data type of each element: float64\n",
            "Total number of bytes consumed by the array: 200\n",
            "Transposed array using reshape():\n",
            " [[ 10.  ]\n",
            " [ 13.75]\n",
            " [ 17.5 ]\n",
            " [ 21.25]\n",
            " [ 25.  ]\n",
            " [ 28.75]\n",
            " [ 32.5 ]\n",
            " [ 36.25]\n",
            " [ 40.  ]\n",
            " [ 43.75]\n",
            " [ 47.5 ]\n",
            " [ 51.25]\n",
            " [ 55.  ]\n",
            " [ 58.75]\n",
            " [ 62.5 ]\n",
            " [ 66.25]\n",
            " [ 70.  ]\n",
            " [ 73.75]\n",
            " [ 77.5 ]\n",
            " [ 81.25]\n",
            " [ 85.  ]\n",
            " [ 88.75]\n",
            " [ 92.5 ]\n",
            " [ 96.25]\n",
            " [100.  ]]\n",
            "Transposed array using T attribute:\n",
            " [ 10.    13.75  17.5   21.25  25.    28.75  32.5   36.25  40.    43.75\n",
            "  47.5   51.25  55.    58.75  62.5   66.25  70.    73.75  77.5   81.25\n",
            "  85.    88.75  92.5   96.25 100.  ]\n"
          ]
        }
      ]
    },
    {
      "cell_type": "code",
      "source": [
        "import numpy as np\n",
        "\n",
        "array = np.array([[10, 20, 30, 40],\n",
        "                  [50, 60, 70, 80],\n",
        "                  [90, 15, 20, 35]])\n",
        "\n",
        "mean_value = np.mean(array)\n",
        "median_value = np.median(array)\n",
        "max_value = np.max(array)\n",
        "min_value = np.min(array)\n",
        "unique_elements = np.unique(array)\n",
        "\n",
        "print(\"Mean:\", mean_value)\n",
        "print(\"Median:\", median_value)\n",
        "print(\"Max:\", max_value)\n",
        "print(\"Min:\", min_value)\n",
        "print(\"Unique elements:\", unique_elements)\n",
        "\n",
        "reshaped_array = array.reshape(4, 3)\n",
        "print(\"Reshaped array 4 rows, 3 columns:\\n\", reshaped_array)\n",
        "\n",
        "resized_array = np.resize(array, (2, 3))\n",
        "print(\"Resized array 2 rows, 3 columns:\\n\", resized_array)"
      ],
      "metadata": {
        "colab": {
          "base_uri": "https://localhost:8080/"
        },
        "id": "J1kKAe58G7EO",
        "outputId": "31896280-b517-4a68-885c-d295ffb87dfe"
      },
      "execution_count": 5,
      "outputs": [
        {
          "output_type": "stream",
          "name": "stdout",
          "text": [
            "Mean: 43.333333333333336\n",
            "Median: 37.5\n",
            "Max: 90\n",
            "Min: 10\n",
            "Unique elements: [10 15 20 30 35 40 50 60 70 80 90]\n",
            "Reshaped array 4 rows, 3 columns:\n",
            " [[10 20 30]\n",
            " [40 50 60]\n",
            " [70 80 90]\n",
            " [15 20 35]]\n",
            "Resized array 2 rows, 3 columns:\n",
            " [[10 20 30]\n",
            " [40 50 60]]\n"
          ]
        }
      ]
    }
  ]
}